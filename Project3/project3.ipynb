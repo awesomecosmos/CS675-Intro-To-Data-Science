{
 "cells": [
  {
   "cell_type": "markdown",
   "metadata": {},
   "source": [
    "# CS675 Introduction to Data Science - Project #3\n",
    "\n",
    "**Aayushi Verma**"
   ]
  },
  {
   "cell_type": "code",
   "execution_count": 1,
   "metadata": {},
   "outputs": [
    {
     "name": "stderr",
     "output_type": "stream",
     "text": [
      "/Library/Frameworks/Python.framework/Versions/3.10/lib/python3.10/site-packages/tqdm/auto.py:22: TqdmWarning: IProgress not found. Please update jupyter and ipywidgets. See https://ipywidgets.readthedocs.io/en/stable/user_install.html\n",
      "  from .autonotebook import tqdm as notebook_tqdm\n"
     ]
    }
   ],
   "source": [
    "import pandas as pd\n",
    "from sklearn.model_selection import train_test_split\n",
    "import seaborn as sns\n",
    "import numpy as np\n",
    "import matplotlib.pyplot as plt\n",
    "from prophet import Prophet\n",
    "import datetime as dt"
   ]
  },
  {
   "cell_type": "code",
   "execution_count": 2,
   "metadata": {},
   "outputs": [
    {
     "name": "stderr",
     "output_type": "stream",
     "text": [
      "/var/folders/n9/3mjn__fd1xd66lc1zh9nlj0h0000gp/T/ipykernel_13326/3477112522.py:1: DtypeWarning: Columns (17) have mixed types. Specify dtype option on import or set low_memory=False.\n",
      "  df = pd.read_csv(\"data.csv\")\n"
     ]
    }
   ],
   "source": [
    "df = pd.read_csv(\"data.csv\")"
   ]
  },
  {
   "cell_type": "code",
   "execution_count": 7,
   "metadata": {},
   "outputs": [
    {
     "data": {
      "text/html": [
       "<div>\n",
       "<style scoped>\n",
       "    .dataframe tbody tr th:only-of-type {\n",
       "        vertical-align: middle;\n",
       "    }\n",
       "\n",
       "    .dataframe tbody tr th {\n",
       "        vertical-align: top;\n",
       "    }\n",
       "\n",
       "    .dataframe thead th {\n",
       "        text-align: right;\n",
       "    }\n",
       "</style>\n",
       "<table border=\"1\" class=\"dataframe\">\n",
       "  <thead>\n",
       "    <tr style=\"text-align: right;\">\n",
       "      <th></th>\n",
       "      <th>Development Name</th>\n",
       "      <th>Borough</th>\n",
       "      <th>Account Name</th>\n",
       "      <th>Location</th>\n",
       "      <th>Meter AMR</th>\n",
       "      <th>Meter Scope</th>\n",
       "      <th>TDS #</th>\n",
       "      <th>EDP</th>\n",
       "      <th>RC Code</th>\n",
       "      <th>Funding Source</th>\n",
       "      <th>...</th>\n",
       "      <th>Rate Class</th>\n",
       "      <th>Bill Analyzed</th>\n",
       "      <th>Consumption (KWH)</th>\n",
       "      <th>KWH Charges</th>\n",
       "      <th>Consumption (KW)</th>\n",
       "      <th>KW Charges</th>\n",
       "      <th>Other charges</th>\n",
       "      <th>year</th>\n",
       "      <th>month</th>\n",
       "      <th>day</th>\n",
       "    </tr>\n",
       "  </thead>\n",
       "  <tbody>\n",
       "    <tr>\n",
       "      <th>0</th>\n",
       "      <td>ADAMS</td>\n",
       "      <td>BRONX</td>\n",
       "      <td>ADAMS</td>\n",
       "      <td>BLD 05</td>\n",
       "      <td>NONE</td>\n",
       "      <td>BLD 01 to 07</td>\n",
       "      <td>118.0</td>\n",
       "      <td>248</td>\n",
       "      <td>B011800</td>\n",
       "      <td>FEDERAL</td>\n",
       "      <td>...</td>\n",
       "      <td>GOV/NYC/068</td>\n",
       "      <td>Yes</td>\n",
       "      <td>128800</td>\n",
       "      <td>7387.97</td>\n",
       "      <td>216.0</td>\n",
       "      <td>2808.0</td>\n",
       "      <td>5200.85</td>\n",
       "      <td>2010.0</td>\n",
       "      <td>1.0</td>\n",
       "      <td>26.0</td>\n",
       "    </tr>\n",
       "    <tr>\n",
       "      <th>1</th>\n",
       "      <td>ADAMS</td>\n",
       "      <td>BRONX</td>\n",
       "      <td>ADAMS</td>\n",
       "      <td>BLD 05</td>\n",
       "      <td>NONE</td>\n",
       "      <td>BLD 01 to 07</td>\n",
       "      <td>118.0</td>\n",
       "      <td>248</td>\n",
       "      <td>B011800</td>\n",
       "      <td>FEDERAL</td>\n",
       "      <td>...</td>\n",
       "      <td>GOV/NYC/068</td>\n",
       "      <td>Yes</td>\n",
       "      <td>115200</td>\n",
       "      <td>6607.87</td>\n",
       "      <td>224.0</td>\n",
       "      <td>2912.0</td>\n",
       "      <td>5036.47</td>\n",
       "      <td>2010.0</td>\n",
       "      <td>2.0</td>\n",
       "      <td>25.0</td>\n",
       "    </tr>\n",
       "    <tr>\n",
       "      <th>2</th>\n",
       "      <td>ADAMS</td>\n",
       "      <td>BRONX</td>\n",
       "      <td>ADAMS</td>\n",
       "      <td>BLD 05</td>\n",
       "      <td>NONE</td>\n",
       "      <td>BLD 01 to 07</td>\n",
       "      <td>118.0</td>\n",
       "      <td>248</td>\n",
       "      <td>B011800</td>\n",
       "      <td>FEDERAL</td>\n",
       "      <td>...</td>\n",
       "      <td>GOV/NYC/068</td>\n",
       "      <td>Yes</td>\n",
       "      <td>103200</td>\n",
       "      <td>5919.55</td>\n",
       "      <td>216.0</td>\n",
       "      <td>2808.0</td>\n",
       "      <td>5177.43</td>\n",
       "      <td>2010.0</td>\n",
       "      <td>3.0</td>\n",
       "      <td>26.0</td>\n",
       "    </tr>\n",
       "    <tr>\n",
       "      <th>3</th>\n",
       "      <td>ADAMS</td>\n",
       "      <td>BRONX</td>\n",
       "      <td>ADAMS</td>\n",
       "      <td>BLD 05</td>\n",
       "      <td>NONE</td>\n",
       "      <td>BLD 01 to 07</td>\n",
       "      <td>118.0</td>\n",
       "      <td>248</td>\n",
       "      <td>B011800</td>\n",
       "      <td>FEDERAL</td>\n",
       "      <td>...</td>\n",
       "      <td>GOV/NYC/068</td>\n",
       "      <td>Yes</td>\n",
       "      <td>105600</td>\n",
       "      <td>6057.22</td>\n",
       "      <td>208.0</td>\n",
       "      <td>2704.0</td>\n",
       "      <td>6002.82</td>\n",
       "      <td>2010.0</td>\n",
       "      <td>4.0</td>\n",
       "      <td>26.0</td>\n",
       "    </tr>\n",
       "    <tr>\n",
       "      <th>4</th>\n",
       "      <td>ADAMS</td>\n",
       "      <td>BRONX</td>\n",
       "      <td>ADAMS</td>\n",
       "      <td>BLD 05</td>\n",
       "      <td>NONE</td>\n",
       "      <td>BLD 01 to 07</td>\n",
       "      <td>118.0</td>\n",
       "      <td>248</td>\n",
       "      <td>B011800</td>\n",
       "      <td>FEDERAL</td>\n",
       "      <td>...</td>\n",
       "      <td>GOV/NYC/068</td>\n",
       "      <td>Yes</td>\n",
       "      <td>97600</td>\n",
       "      <td>5598.34</td>\n",
       "      <td>216.0</td>\n",
       "      <td>2808.0</td>\n",
       "      <td>5323.20</td>\n",
       "      <td>2010.0</td>\n",
       "      <td>5.0</td>\n",
       "      <td>24.0</td>\n",
       "    </tr>\n",
       "  </tbody>\n",
       "</table>\n",
       "<p>5 rows × 30 columns</p>\n",
       "</div>"
      ],
      "text/plain": [
       "  Development Name Borough Account Name Location Meter AMR   Meter Scope  \\\n",
       "0            ADAMS   BRONX        ADAMS   BLD 05      NONE  BLD 01 to 07   \n",
       "1            ADAMS   BRONX        ADAMS   BLD 05      NONE  BLD 01 to 07   \n",
       "2            ADAMS   BRONX        ADAMS   BLD 05      NONE  BLD 01 to 07   \n",
       "3            ADAMS   BRONX        ADAMS   BLD 05      NONE  BLD 01 to 07   \n",
       "4            ADAMS   BRONX        ADAMS   BLD 05      NONE  BLD 01 to 07   \n",
       "\n",
       "   TDS #  EDP  RC Code Funding Source  ...   Rate Class Bill Analyzed  \\\n",
       "0  118.0  248  B011800        FEDERAL  ...  GOV/NYC/068           Yes   \n",
       "1  118.0  248  B011800        FEDERAL  ...  GOV/NYC/068           Yes   \n",
       "2  118.0  248  B011800        FEDERAL  ...  GOV/NYC/068           Yes   \n",
       "3  118.0  248  B011800        FEDERAL  ...  GOV/NYC/068           Yes   \n",
       "4  118.0  248  B011800        FEDERAL  ...  GOV/NYC/068           Yes   \n",
       "\n",
       "   Consumption (KWH) KWH Charges Consumption (KW) KW Charges  Other charges  \\\n",
       "0             128800     7387.97            216.0     2808.0        5200.85   \n",
       "1             115200     6607.87            224.0     2912.0        5036.47   \n",
       "2             103200     5919.55            216.0     2808.0        5177.43   \n",
       "3             105600     6057.22            208.0     2704.0        6002.82   \n",
       "4              97600     5598.34            216.0     2808.0        5323.20   \n",
       "\n",
       "     year month   day  \n",
       "0  2010.0   1.0  26.0  \n",
       "1  2010.0   2.0  25.0  \n",
       "2  2010.0   3.0  26.0  \n",
       "3  2010.0   4.0  26.0  \n",
       "4  2010.0   5.0  24.0  \n",
       "\n",
       "[5 rows x 30 columns]"
      ]
     },
     "execution_count": 7,
     "metadata": {},
     "output_type": "execute_result"
    }
   ],
   "source": [
    "df.head()"
   ]
  },
  {
   "cell_type": "code",
   "execution_count": 3,
   "metadata": {},
   "outputs": [],
   "source": [
    "df['Service End Date'] = pd.to_datetime(df['Service End Date'])"
   ]
  },
  {
   "cell_type": "code",
   "execution_count": 4,
   "metadata": {},
   "outputs": [],
   "source": [
    "df['year'] = df['Service End Date'].dt.year\n",
    "df['month'] = df['Service End Date'].dt.month\n",
    "df['day'] = df['Service End Date'].dt.day"
   ]
  },
  {
   "cell_type": "code",
   "execution_count": 8,
   "metadata": {},
   "outputs": [
    {
     "data": {
      "text/plain": [
       "0         216.00\n",
       "1         224.00\n",
       "2         216.00\n",
       "3         208.00\n",
       "4         216.00\n",
       "           ...  \n",
       "407026    150.48\n",
       "407027    135.00\n",
       "407028      0.00\n",
       "407029      0.00\n",
       "407030      0.00\n",
       "Name: Consumption (KW), Length: 407031, dtype: float64"
      ]
     },
     "execution_count": 8,
     "metadata": {},
     "output_type": "execute_result"
    }
   ],
   "source": [
    "df['Consumption (KW)']"
   ]
  },
  {
   "cell_type": "code",
   "execution_count": 13,
   "metadata": {},
   "outputs": [],
   "source": [
    "df2 = pd.DataFrame(df['Service End Date'],df['Consumption (KW)']).rename({'ds':'Service End Date','y':'Consumption (KW)'})"
   ]
  },
  {
   "cell_type": "code",
   "execution_count": 16,
   "metadata": {},
   "outputs": [
    {
     "data": {
      "text/html": [
       "<div>\n",
       "<style scoped>\n",
       "    .dataframe tbody tr th:only-of-type {\n",
       "        vertical-align: middle;\n",
       "    }\n",
       "\n",
       "    .dataframe tbody tr th {\n",
       "        vertical-align: top;\n",
       "    }\n",
       "\n",
       "    .dataframe thead th {\n",
       "        text-align: right;\n",
       "    }\n",
       "</style>\n",
       "<table border=\"1\" class=\"dataframe\">\n",
       "  <thead>\n",
       "    <tr style=\"text-align: right;\">\n",
       "      <th></th>\n",
       "      <th>Service End Date</th>\n",
       "    </tr>\n",
       "    <tr>\n",
       "      <th>Consumption (KW)</th>\n",
       "      <th></th>\n",
       "    </tr>\n",
       "  </thead>\n",
       "  <tbody>\n",
       "    <tr>\n",
       "      <th>216.00</th>\n",
       "      <td>2010-01-26</td>\n",
       "    </tr>\n",
       "    <tr>\n",
       "      <th>224.00</th>\n",
       "      <td>2010-01-26</td>\n",
       "    </tr>\n",
       "    <tr>\n",
       "      <th>216.00</th>\n",
       "      <td>2010-01-26</td>\n",
       "    </tr>\n",
       "    <tr>\n",
       "      <th>208.00</th>\n",
       "      <td>2010-05-24</td>\n",
       "    </tr>\n",
       "    <tr>\n",
       "      <th>216.00</th>\n",
       "      <td>2010-01-26</td>\n",
       "    </tr>\n",
       "    <tr>\n",
       "      <th>...</th>\n",
       "      <td>...</td>\n",
       "    </tr>\n",
       "    <tr>\n",
       "      <th>150.48</th>\n",
       "      <td>NaT</td>\n",
       "    </tr>\n",
       "    <tr>\n",
       "      <th>135.00</th>\n",
       "      <td>2010-06-23</td>\n",
       "    </tr>\n",
       "    <tr>\n",
       "      <th>0.00</th>\n",
       "      <td>2010-01-26</td>\n",
       "    </tr>\n",
       "    <tr>\n",
       "      <th>0.00</th>\n",
       "      <td>2010-01-26</td>\n",
       "    </tr>\n",
       "    <tr>\n",
       "      <th>0.00</th>\n",
       "      <td>2010-01-26</td>\n",
       "    </tr>\n",
       "  </tbody>\n",
       "</table>\n",
       "<p>407031 rows × 1 columns</p>\n",
       "</div>"
      ],
      "text/plain": [
       "                 Service End Date\n",
       "Consumption (KW)                 \n",
       "216.00                 2010-01-26\n",
       "224.00                 2010-01-26\n",
       "216.00                 2010-01-26\n",
       "208.00                 2010-05-24\n",
       "216.00                 2010-01-26\n",
       "...                           ...\n",
       "150.48                        NaT\n",
       "135.00                 2010-06-23\n",
       "0.00                   2010-01-26\n",
       "0.00                   2010-01-26\n",
       "0.00                   2010-01-26\n",
       "\n",
       "[407031 rows x 1 columns]"
      ]
     },
     "execution_count": 16,
     "metadata": {},
     "output_type": "execute_result"
    }
   ],
   "source": [
    "df2"
   ]
  },
  {
   "cell_type": "code",
   "execution_count": 14,
   "metadata": {},
   "outputs": [],
   "source": [
    "m = Prophet()"
   ]
  },
  {
   "cell_type": "code",
   "execution_count": 15,
   "metadata": {},
   "outputs": [
    {
     "ename": "ValueError",
     "evalue": "Dataframe must have columns \"ds\" and \"y\" with the dates and values respectively.",
     "output_type": "error",
     "traceback": [
      "\u001b[0;31m---------------------------------------------------------------------------\u001b[0m",
      "\u001b[0;31mValueError\u001b[0m                                Traceback (most recent call last)",
      "\u001b[1;32m/Users/av15397n/Documents/GitHub/cs675-intro-to-data-science/Project3/project3.ipynb Cell 10\u001b[0m in \u001b[0;36m<cell line: 1>\u001b[0;34m()\u001b[0m\n\u001b[0;32m----> <a href='vscode-notebook-cell:/Users/av15397n/Documents/GitHub/cs675-intro-to-data-science/Project3/project3.ipynb#X14sZmlsZQ%3D%3D?line=0'>1</a>\u001b[0m m\u001b[39m.\u001b[39;49mfit(df2)\n",
      "File \u001b[0;32m/Library/Frameworks/Python.framework/Versions/3.10/lib/python3.10/site-packages/prophet/forecaster.py:1110\u001b[0m, in \u001b[0;36mProphet.fit\u001b[0;34m(self, df, **kwargs)\u001b[0m\n\u001b[1;32m   1107\u001b[0m     \u001b[39mraise\u001b[39;00m \u001b[39mException\u001b[39;00m(\u001b[39m'\u001b[39m\u001b[39mProphet object can only be fit once. \u001b[39m\u001b[39m'\u001b[39m\n\u001b[1;32m   1108\u001b[0m                     \u001b[39m'\u001b[39m\u001b[39mInstantiate a new object.\u001b[39m\u001b[39m'\u001b[39m)\n\u001b[1;32m   1109\u001b[0m \u001b[39mif\u001b[39;00m (\u001b[39m'\u001b[39m\u001b[39mds\u001b[39m\u001b[39m'\u001b[39m \u001b[39mnot\u001b[39;00m \u001b[39min\u001b[39;00m df) \u001b[39mor\u001b[39;00m (\u001b[39m'\u001b[39m\u001b[39my\u001b[39m\u001b[39m'\u001b[39m \u001b[39mnot\u001b[39;00m \u001b[39min\u001b[39;00m df):\n\u001b[0;32m-> 1110\u001b[0m     \u001b[39mraise\u001b[39;00m \u001b[39mValueError\u001b[39;00m(\n\u001b[1;32m   1111\u001b[0m         \u001b[39m'\u001b[39m\u001b[39mDataframe must have columns \u001b[39m\u001b[39m\"\u001b[39m\u001b[39mds\u001b[39m\u001b[39m\"\u001b[39m\u001b[39m and \u001b[39m\u001b[39m\"\u001b[39m\u001b[39my\u001b[39m\u001b[39m\"\u001b[39m\u001b[39m with the dates and \u001b[39m\u001b[39m'\u001b[39m\n\u001b[1;32m   1112\u001b[0m         \u001b[39m'\u001b[39m\u001b[39mvalues respectively.\u001b[39m\u001b[39m'\u001b[39m\n\u001b[1;32m   1113\u001b[0m     )\n\u001b[1;32m   1114\u001b[0m history \u001b[39m=\u001b[39m df[df[\u001b[39m'\u001b[39m\u001b[39my\u001b[39m\u001b[39m'\u001b[39m]\u001b[39m.\u001b[39mnotnull()]\u001b[39m.\u001b[39mcopy()\n\u001b[1;32m   1115\u001b[0m \u001b[39mif\u001b[39;00m history\u001b[39m.\u001b[39mshape[\u001b[39m0\u001b[39m] \u001b[39m<\u001b[39m \u001b[39m2\u001b[39m:\n",
      "\u001b[0;31mValueError\u001b[0m: Dataframe must have columns \"ds\" and \"y\" with the dates and values respectively."
     ]
    }
   ],
   "source": [
    "m.fit(df2)"
   ]
  },
  {
   "cell_type": "code",
   "execution_count": null,
   "metadata": {},
   "outputs": [],
   "source": []
  },
  {
   "cell_type": "code",
   "execution_count": null,
   "metadata": {},
   "outputs": [],
   "source": []
  },
  {
   "cell_type": "code",
   "execution_count": null,
   "metadata": {},
   "outputs": [],
   "source": []
  },
  {
   "cell_type": "code",
   "execution_count": null,
   "metadata": {},
   "outputs": [],
   "source": []
  },
  {
   "cell_type": "code",
   "execution_count": null,
   "metadata": {},
   "outputs": [],
   "source": []
  },
  {
   "cell_type": "code",
   "execution_count": null,
   "metadata": {},
   "outputs": [],
   "source": []
  },
  {
   "cell_type": "code",
   "execution_count": null,
   "metadata": {},
   "outputs": [],
   "source": []
  }
 ],
 "metadata": {
  "kernelspec": {
   "display_name": "Python 3.10.5 64-bit",
   "language": "python",
   "name": "python3"
  },
  "language_info": {
   "codemirror_mode": {
    "name": "ipython",
    "version": 3
   },
   "file_extension": ".py",
   "mimetype": "text/x-python",
   "name": "python",
   "nbconvert_exporter": "python",
   "pygments_lexer": "ipython3",
   "version": "3.10.5"
  },
  "orig_nbformat": 4,
  "vscode": {
   "interpreter": {
    "hash": "aee8b7b246df8f9039afb4144a1f6fd8d2ca17a180786b69acc140d282b71a49"
   }
  }
 },
 "nbformat": 4,
 "nbformat_minor": 2
}
